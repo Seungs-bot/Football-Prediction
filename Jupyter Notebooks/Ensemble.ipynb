{
 "cells": [
  {
   "cell_type": "markdown",
   "id": "baa35daf",
   "metadata": {},
   "source": [
    "# Import Relevant Libraries"
   ]
  },
  {
   "cell_type": "code",
   "execution_count": 133,
   "id": "7aa3c29a",
   "metadata": {},
   "outputs": [],
   "source": [
    "import pandas as pd\n",
    "import numpy as np\n",
    "from sklearn.ensemble import RandomForestClassifier\n",
    "from sklearn.linear_model import LogisticRegression\n",
    "from sklearn.linear_model import PoissonRegressor\n",
    "from xgboost import XGBClassifier\n",
    "from sklearn.metrics import accuracy_score\n",
    "from sklearn.metrics import precision_score\n",
    "from sklearn.metrics import classification_report\n",
    "import matplotlib.pyplot as plt\n",
    "import itertools\n",
    "from tqdm import tqdm\n",
    "import time"
   ]
  },
  {
   "cell_type": "markdown",
   "id": "5cdd6296",
   "metadata": {},
   "source": [
    "# Initial Data Preparation"
   ]
  },
  {
   "cell_type": "code",
   "execution_count": 128,
   "id": "d9e78a1c",
   "metadata": {
    "scrolled": true
   },
   "outputs": [],
   "source": [
    "matches_engineered = pd.read_csv('matches_rolling.csv',index_col=[0])\n",
    "matches_engineered_grouped = matches_engineered.groupby('team')\n",
    "\n",
    "#Getting list of teams in the current season\n",
    "matches_2023 = matches_engineered[matches_engineered['season'] == 2022]\n",
    "teams = matches_2023['team'].unique().tolist()\n",
    "\n",
    "#Creating dataframe to hold the feature variables for teams\n",
    "columns = ['team','features','accuracy','precision']\n",
    "df_features = pd.DataFrame(columns=columns)\n",
    "\n",
    "#Predictors for match results\n",
    "general_predictors = [\"venue_code\", \"opp_code\"]\n",
    "cols_form = [\"gf\", \"ga\", \"sh\", \"sot\", \"dist\", \"form\", \"xg\", \"xga\", \"poss\", \"sota\", \"save%\", \"cs\", \"psxg\", \"cmp\", \"cmp%\", \"prgdist\",\n",
    "            \"ast\", \"ppa\", \"prgp\", \"sca\", \"gca\", \"tklw\", \"int\", \"tkl+int\", \"err\", \"succ\", \"succ%\", \"crdy\", \"fls\", \"won%\"]\n",
    "cols_avg = [\"gf\", \"ga\", \"form\", \"xg\", \"xga\", \"poss\", \"cs\"]\n",
    "form_predictors = [f\"{c}_rolling_3\" for c in cols_form]\n",
    "overall_predictors = [f\"{c}_rolling_365\" for c in cols_avg]\n",
    "all_predictors = general_predictors + form_predictors + overall_predictors"
   ]
  },
  {
   "cell_type": "markdown",
   "id": "f7e7a91c",
   "metadata": {},
   "source": [
    "# Find Best Feature Combination for Each Team's Model"
   ]
  },
  {
   "cell_type": "code",
   "execution_count": 159,
   "id": "9d70ab34",
   "metadata": {},
   "outputs": [
    {
     "name": "stdout",
     "output_type": "stream",
     "text": [
      "Finding best features for Arsenal...\n",
      "Split Arsenal into 0.8:0.2 ratio\n",
      "\n",
      "---- All Variables Model ----\n",
      "Accuracy : 0.5151515151515151\n",
      "Precision: 0.6666666666666666\n",
      "Average  : 0.26666666666666666\n",
      "-----------------------------\n",
      "\n",
      "Starting best feature finding for 14 combinations...\n"
     ]
    },
    {
     "name": "stderr",
     "output_type": "stream",
     "text": [
      "Training: 100%|██████████| 16383/16383 [35:04<00:00,  7.78it/s]                                                        \n",
      "C:\\Users\\Lee Seung Soo\\AppData\\Local\\Temp\\ipykernel_23252\\2801179716.py:15: FutureWarning: The frame.append method is deprecated and will be removed from pandas in a future version. Use pandas.concat instead.\n",
      "  df_features = df_features.append(pd.Series(best_features, index=df_features.columns), ignore_index=True)\n"
     ]
    },
    {
     "name": "stdout",
     "output_type": "stream",
     "text": [
      "\n",
      "Model Training Complete!\n",
      "Best feature variables: ['dist_rolling_3', 'sh_rolling_3']\n",
      "---- Best Variables Model ----\n",
      "Accuracy score: 0.696969696969697\n",
      "Precision score: 0.7142857142857143\n",
      "------------------------------\n",
      "\n",
      "Finding best features for Aston Villa...\n",
      "Split Aston Villa into 0.71:0.29 ratio\n",
      "\n",
      "---- All Variables Model ----\n",
      "Accuracy : 0.48148148148148145\n",
      "Precision: 0.6666666666666666\n",
      "Average  : 0.26666666666666666\n",
      "-----------------------------\n",
      "\n",
      "Starting best feature finding for 14 combinations...\n"
     ]
    },
    {
     "name": "stderr",
     "output_type": "stream",
     "text": [
      "Training: 100%|██████████| 16383/16383 [32:56<00:00,  8.29it/s]                                                        \n",
      "C:\\Users\\Lee Seung Soo\\AppData\\Local\\Temp\\ipykernel_23252\\2801179716.py:15: FutureWarning: The frame.append method is deprecated and will be removed from pandas in a future version. Use pandas.concat instead.\n",
      "  df_features = df_features.append(pd.Series(best_features, index=df_features.columns), ignore_index=True)\n"
     ]
    },
    {
     "name": "stdout",
     "output_type": "stream",
     "text": [
      "\n",
      "Model Training Complete!\n",
      "Best feature variables: ['tklw_rolling_3', 'gca_rolling_3', 'sota_rolling_3']\n",
      "---- Best Variables Model ----\n",
      "Accuracy score: 0.8148148148148148\n",
      "Precision score: 0.8666666666666667\n",
      "------------------------------\n",
      "\n",
      "Finding best features for Bournemouth...\n",
      "Split Bournemouth into 0.71:0.29 ratio\n",
      "\n",
      "---- All Variables Model ----\n",
      "Accuracy : 0.38461538461538464\n",
      "Precision: 0.6666666666666666\n",
      "Average  : 0.26666666666666666\n",
      "-----------------------------\n",
      "\n",
      "Starting best feature finding for 14 combinations...\n"
     ]
    },
    {
     "name": "stderr",
     "output_type": "stream",
     "text": [
      "Training:   0%|          | 11/16383 [00:01<31:30,  8.66it/s]                                                           C:\\Users\\Lee Seung Soo\\AppData\\Roaming\\Python\\Python39\\site-packages\\sklearn\\metrics\\_classification.py:1327: UndefinedMetricWarning: Precision is ill-defined and being set to 0.0 due to no predicted samples. Use `zero_division` parameter to control this behavior.\n",
      "  _warn_prf(average, modifier, msg_start, len(result))\n",
      "Training: 100%|██████████| 16383/16383 [32:43<00:00,  8.34it/s]                                                        \n",
      "C:\\Users\\Lee Seung Soo\\AppData\\Local\\Temp\\ipykernel_23252\\2801179716.py:15: FutureWarning: The frame.append method is deprecated and will be removed from pandas in a future version. Use pandas.concat instead.\n",
      "  df_features = df_features.append(pd.Series(best_features, index=df_features.columns), ignore_index=True)\n"
     ]
    },
    {
     "name": "stdout",
     "output_type": "stream",
     "text": [
      "\n",
      "Model Training Complete!\n",
      "Best feature variables: ['save%_rolling_3', 'xga_rolling_3', 'xg_rolling_365', 'sot_rolling_3', 'gf_rolling_3', 'poss_rolling_365']\n",
      "---- Best Variables Model ----\n",
      "Accuracy score: 0.7692307692307693\n",
      "Precision score: 0.8333333333333334\n",
      "------------------------------\n",
      "\n",
      "Finding best features for Brentford...\n",
      "Split Brentford into 0.73:0.27 ratio\n",
      "\n",
      "---- All Variables Model ----\n",
      "Accuracy : 0.5\n",
      "Precision: 0.6666666666666666\n",
      "Average  : 0.26666666666666666\n",
      "-----------------------------\n",
      "\n",
      "Starting best feature finding for 14 combinations...\n"
     ]
    },
    {
     "name": "stderr",
     "output_type": "stream",
     "text": [
      "Training: 100%|██████████| 16383/16383 [32:42<00:00,  8.35it/s]                                                        \n",
      "C:\\Users\\Lee Seung Soo\\AppData\\Local\\Temp\\ipykernel_23252\\2801179716.py:15: FutureWarning: The frame.append method is deprecated and will be removed from pandas in a future version. Use pandas.concat instead.\n",
      "  df_features = df_features.append(pd.Series(best_features, index=df_features.columns), ignore_index=True)\n"
     ]
    },
    {
     "name": "stdout",
     "output_type": "stream",
     "text": [
      "\n",
      "Model Training Complete!\n",
      "Best feature variables: ['psxg_rolling_3']\n",
      "---- Best Variables Model ----\n",
      "Accuracy score: 0.5\n",
      "Precision score: 0.5\n",
      "------------------------------\n",
      "\n",
      "Finding best features for Brighton and Hove Albion...\n",
      "Split Brighton and Hove Albion into 0.8:0.2 ratio\n",
      "\n",
      "---- All Variables Model ----\n",
      "Accuracy : 0.5333333333333333\n",
      "Precision: 0.6666666666666666\n",
      "Average  : 0.26666666666666666\n",
      "-----------------------------\n",
      "\n",
      "Starting best feature finding for 14 combinations...\n"
     ]
    },
    {
     "name": "stderr",
     "output_type": "stream",
     "text": [
      "Training: 100%|██████████| 16383/16383 [25:28<00:00, 10.71it/s]                                                        \n",
      "C:\\Users\\Lee Seung Soo\\AppData\\Local\\Temp\\ipykernel_23252\\2801179716.py:15: FutureWarning: The frame.append method is deprecated and will be removed from pandas in a future version. Use pandas.concat instead.\n",
      "  df_features = df_features.append(pd.Series(best_features, index=df_features.columns), ignore_index=True)\n"
     ]
    },
    {
     "name": "stdout",
     "output_type": "stream",
     "text": [
      "\n",
      "Model Training Complete!\n",
      "Best feature variables: ['fls_rolling_3', 'xga_rolling_3', 'int_rolling_3', 'dist_rolling_3']\n",
      "---- Best Variables Model ----\n",
      "Accuracy score: 0.8\n",
      "Precision score: 0.7692307692307693\n",
      "------------------------------\n",
      "\n",
      "Finding best features for Chelsea...\n",
      "Split Chelsea into 0.81:0.19 ratio\n",
      "\n",
      "---- All Variables Model ----\n",
      "Accuracy : 0.5555555555555556\n",
      "Precision: 0.6666666666666666\n",
      "Average  : 0.26666666666666666\n",
      "-----------------------------\n",
      "\n",
      "Starting best feature finding for 14 combinations...\n"
     ]
    },
    {
     "name": "stderr",
     "output_type": "stream",
     "text": [
      "Training: 100%|██████████| 16383/16383 [23:02<00:00, 11.85it/s]                                                        \n",
      "C:\\Users\\Lee Seung Soo\\AppData\\Local\\Temp\\ipykernel_23252\\2801179716.py:15: FutureWarning: The frame.append method is deprecated and will be removed from pandas in a future version. Use pandas.concat instead.\n",
      "  df_features = df_features.append(pd.Series(best_features, index=df_features.columns), ignore_index=True)\n"
     ]
    },
    {
     "name": "stdout",
     "output_type": "stream",
     "text": [
      "\n",
      "Model Training Complete!\n",
      "Best feature variables: ['prgdist_rolling_3', 'cmp_rolling_3', 'xg_rolling_365', 'crdy_rolling_3', 'cmp%_rolling_3', 'dist_rolling_3', 'fls_rolling_3']\n",
      "---- Best Variables Model ----\n",
      "Accuracy score: 0.7777777777777778\n",
      "Precision score: 0.75\n",
      "------------------------------\n",
      "\n",
      "Finding best features for Crystal Palace...\n",
      "Split Crystal Palace into 0.81:0.19 ratio\n",
      "\n",
      "---- All Variables Model ----\n",
      "Accuracy : 0.6129032258064516\n",
      "Precision: 0.6666666666666666\n",
      "Average  : 0.26666666666666666\n",
      "-----------------------------\n",
      "\n",
      "Starting best feature finding for 14 combinations...\n"
     ]
    },
    {
     "name": "stderr",
     "output_type": "stream",
     "text": [
      "Training: 100%|██████████| 16383/16383 [25:08<00:00, 10.86it/s]                                                        \n",
      "C:\\Users\\Lee Seung Soo\\AppData\\Local\\Temp\\ipykernel_23252\\2801179716.py:15: FutureWarning: The frame.append method is deprecated and will be removed from pandas in a future version. Use pandas.concat instead.\n",
      "  df_features = df_features.append(pd.Series(best_features, index=df_features.columns), ignore_index=True)\n"
     ]
    },
    {
     "name": "stdout",
     "output_type": "stream",
     "text": [
      "\n",
      "Model Training Complete!\n",
      "Best feature variables: ['ppa_rolling_3', 'cmp%_rolling_3', 'tklw_rolling_3', 'succ_rolling_3', 'ga_rolling_365']\n",
      "---- Best Variables Model ----\n",
      "Accuracy score: 0.7741935483870968\n",
      "Precision score: 0.75\n",
      "------------------------------\n",
      "\n",
      "Finding best features for Everton...\n",
      "Split Everton into 0.8:0.2 ratio\n",
      "\n",
      "---- All Variables Model ----\n",
      "Accuracy : 0.5714285714285714\n",
      "Precision: 0.6666666666666666\n",
      "Average  : 0.26666666666666666\n",
      "-----------------------------\n",
      "\n",
      "Starting best feature finding for 14 combinations...\n"
     ]
    },
    {
     "name": "stderr",
     "output_type": "stream",
     "text": [
      "Training: 100%|██████████| 16383/16383 [23:15<00:00, 11.74it/s]                                                        \n",
      "C:\\Users\\Lee Seung Soo\\AppData\\Local\\Temp\\ipykernel_23252\\2801179716.py:15: FutureWarning: The frame.append method is deprecated and will be removed from pandas in a future version. Use pandas.concat instead.\n",
      "  df_features = df_features.append(pd.Series(best_features, index=df_features.columns), ignore_index=True)\n"
     ]
    },
    {
     "name": "stdout",
     "output_type": "stream",
     "text": [
      "\n",
      "Model Training Complete!\n",
      "Best feature variables: ['sh_rolling_3', 'succ%_rolling_3', 'fls_rolling_3', 'dist_rolling_3', 'sca_rolling_3', 'cmp_rolling_3']\n",
      "---- Best Variables Model ----\n",
      "Accuracy score: 0.7857142857142857\n",
      "Precision score: 0.875\n",
      "------------------------------\n",
      "\n",
      "Finding best features for Fulham...\n",
      "Split Fulham into 0.71:0.29 ratio\n",
      "\n",
      "---- All Variables Model ----\n",
      "Accuracy : 0.4666666666666667\n",
      "Precision: 0.6666666666666666\n",
      "Average  : 0.26666666666666666\n",
      "-----------------------------\n",
      "\n",
      "Starting best feature finding for 14 combinations...\n"
     ]
    },
    {
     "name": "stderr",
     "output_type": "stream",
     "text": [
      "Training: 100%|██████████| 16383/16383 [22:14<00:00, 12.28it/s]                                                        \n",
      "C:\\Users\\Lee Seung Soo\\AppData\\Local\\Temp\\ipykernel_23252\\2801179716.py:15: FutureWarning: The frame.append method is deprecated and will be removed from pandas in a future version. Use pandas.concat instead.\n",
      "  df_features = df_features.append(pd.Series(best_features, index=df_features.columns), ignore_index=True)\n"
     ]
    },
    {
     "name": "stdout",
     "output_type": "stream",
     "text": [
      "\n",
      "Model Training Complete!\n",
      "Best feature variables: ['won%_rolling_3']\n",
      "---- Best Variables Model ----\n",
      "Accuracy score: 0.8\n",
      "Precision score: 0.7\n",
      "------------------------------\n",
      "\n",
      "Finding best features for Leeds United...\n",
      "Split Leeds United into 0.7:0.3 ratio\n",
      "\n",
      "---- All Variables Model ----\n",
      "Accuracy : 0.375\n",
      "Precision: 0.6666666666666666\n",
      "Average  : 0.26666666666666666\n",
      "-----------------------------\n",
      "\n",
      "Starting best feature finding for 14 combinations...\n"
     ]
    },
    {
     "name": "stderr",
     "output_type": "stream",
     "text": [
      "Training: 100%|██████████| 16383/16383 [22:06<00:00, 12.35it/s]                                                        \n",
      "C:\\Users\\Lee Seung Soo\\AppData\\Local\\Temp\\ipykernel_23252\\2801179716.py:15: FutureWarning: The frame.append method is deprecated and will be removed from pandas in a future version. Use pandas.concat instead.\n",
      "  df_features = df_features.append(pd.Series(best_features, index=df_features.columns), ignore_index=True)\n"
     ]
    },
    {
     "name": "stdout",
     "output_type": "stream",
     "text": [
      "\n",
      "Model Training Complete!\n",
      "Best feature variables: ['psxg_rolling_3', 'int_rolling_3', 'opp_code', 'xga_rolling_3']\n",
      "---- Best Variables Model ----\n",
      "Accuracy score: 0.75\n",
      "Precision score: 0.6923076923076923\n",
      "------------------------------\n",
      "\n",
      "Finding best features for Leicester City...\n",
      "Split Leicester City into 0.81:0.19 ratio\n",
      "\n",
      "---- All Variables Model ----\n",
      "Accuracy : 0.5806451612903226\n",
      "Precision: 0.6666666666666666\n",
      "Average  : 0.26666666666666666\n",
      "-----------------------------\n",
      "\n",
      "Starting best feature finding for 14 combinations...\n"
     ]
    },
    {
     "name": "stderr",
     "output_type": "stream",
     "text": [
      "Training: 100%|██████████| 16383/16383 [23:29<00:00, 11.63it/s]                                                        \n",
      "C:\\Users\\Lee Seung Soo\\AppData\\Local\\Temp\\ipykernel_23252\\2801179716.py:15: FutureWarning: The frame.append method is deprecated and will be removed from pandas in a future version. Use pandas.concat instead.\n",
      "  df_features = df_features.append(pd.Series(best_features, index=df_features.columns), ignore_index=True)\n"
     ]
    },
    {
     "name": "stdout",
     "output_type": "stream",
     "text": [
      "\n",
      "Model Training Complete!\n",
      "Best feature variables: ['xg_rolling_365', 'sot_rolling_3', 'fls_rolling_3', 'succ_rolling_3']\n",
      "---- Best Variables Model ----\n",
      "Accuracy score: 0.8387096774193549\n",
      "Precision score: 0.8235294117647058\n",
      "------------------------------\n",
      "\n",
      "Finding best features for Liverpool...\n",
      "Split Liverpool into 0.8:0.2 ratio\n",
      "\n",
      "---- All Variables Model ----\n",
      "Accuracy : 0.5161290322580645\n",
      "Precision: 0.6666666666666666\n",
      "Average  : 0.26666666666666666\n",
      "-----------------------------\n",
      "\n",
      "Starting best feature finding for 14 combinations...\n"
     ]
    },
    {
     "name": "stderr",
     "output_type": "stream",
     "text": [
      "Training: 100%|██████████| 16383/16383 [25:07<00:00, 10.87it/s]                                                        \n",
      "C:\\Users\\Lee Seung Soo\\AppData\\Local\\Temp\\ipykernel_23252\\2801179716.py:15: FutureWarning: The frame.append method is deprecated and will be removed from pandas in a future version. Use pandas.concat instead.\n",
      "  df_features = df_features.append(pd.Series(best_features, index=df_features.columns), ignore_index=True)\n"
     ]
    },
    {
     "name": "stdout",
     "output_type": "stream",
     "text": [
      "\n",
      "Model Training Complete!\n",
      "Best feature variables: ['form_rolling_365', 'poss_rolling_365', 'xg_rolling_365', 'opp_code', 'sh_rolling_3']\n",
      "---- Best Variables Model ----\n",
      "Accuracy score: 0.8387096774193549\n",
      "Precision score: 1.0\n",
      "------------------------------\n",
      "\n",
      "Finding best features for Manchester City...\n",
      "Split Manchester City into 0.81:0.19 ratio\n",
      "\n",
      "---- All Variables Model ----\n",
      "Accuracy : 0.4583333333333333\n",
      "Precision: 0.6666666666666666\n",
      "Average  : 0.26666666666666666\n",
      "-----------------------------\n",
      "\n",
      "Starting best feature finding for 14 combinations...\n"
     ]
    },
    {
     "name": "stderr",
     "output_type": "stream",
     "text": [
      "Training: 100%|██████████| 16383/16383 [29:20<00:00,  9.31it/s]                                                        \n",
      "C:\\Users\\Lee Seung Soo\\AppData\\Local\\Temp\\ipykernel_23252\\2801179716.py:15: FutureWarning: The frame.append method is deprecated and will be removed from pandas in a future version. Use pandas.concat instead.\n",
      "  df_features = df_features.append(pd.Series(best_features, index=df_features.columns), ignore_index=True)\n"
     ]
    },
    {
     "name": "stdout",
     "output_type": "stream",
     "text": [
      "\n",
      "Model Training Complete!\n",
      "Best feature variables: ['xga_rolling_3', 'succ_rolling_3']\n",
      "---- Best Variables Model ----\n",
      "Accuracy score: 0.7916666666666666\n",
      "Precision score: 0.7894736842105263\n",
      "------------------------------\n",
      "\n",
      "Finding best features for Manchester United...\n",
      "Split Manchester United into 0.8:0.2 ratio\n",
      "\n",
      "---- All Variables Model ----\n",
      "Accuracy : 0.40625\n",
      "Precision: 0.6666666666666666\n",
      "Average  : 0.26666666666666666\n",
      "-----------------------------\n",
      "\n",
      "Starting best feature finding for 14 combinations...\n"
     ]
    },
    {
     "name": "stderr",
     "output_type": "stream",
     "text": [
      "Training: 100%|██████████| 16383/16383 [26:20<00:00, 10.36it/s]                                                        \n",
      "C:\\Users\\Lee Seung Soo\\AppData\\Local\\Temp\\ipykernel_23252\\2801179716.py:15: FutureWarning: The frame.append method is deprecated and will be removed from pandas in a future version. Use pandas.concat instead.\n",
      "  df_features = df_features.append(pd.Series(best_features, index=df_features.columns), ignore_index=True)\n"
     ]
    },
    {
     "name": "stdout",
     "output_type": "stream",
     "text": [
      "\n",
      "Model Training Complete!\n",
      "Best feature variables: ['tklw_rolling_3', 'xg_rolling_365', 'psxg_rolling_3', 'gca_rolling_3']\n",
      "---- Best Variables Model ----\n",
      "Accuracy score: 0.6875\n",
      "Precision score: 0.65\n",
      "------------------------------\n",
      "\n",
      "Finding best features for Newcastle United...\n",
      "Split Newcastle United into 0.8:0.2 ratio\n",
      "\n",
      "---- All Variables Model ----\n",
      "Accuracy : 0.43333333333333335\n",
      "Precision: 0.6666666666666666\n",
      "Average  : 0.26666666666666666\n",
      "-----------------------------\n",
      "\n",
      "Starting best feature finding for 14 combinations...\n"
     ]
    },
    {
     "name": "stderr",
     "output_type": "stream",
     "text": [
      "Training: 100%|██████████| 16383/16383 [30:32<00:00,  8.94it/s]                                                        \n",
      "C:\\Users\\Lee Seung Soo\\AppData\\Local\\Temp\\ipykernel_23252\\2801179716.py:15: FutureWarning: The frame.append method is deprecated and will be removed from pandas in a future version. Use pandas.concat instead.\n",
      "  df_features = df_features.append(pd.Series(best_features, index=df_features.columns), ignore_index=True)\n"
     ]
    },
    {
     "name": "stdout",
     "output_type": "stream",
     "text": [
      "\n",
      "Model Training Complete!\n",
      "Best feature variables: ['opp_code', 'prgp_rolling_3', 'save%_rolling_3', 'cmp%_rolling_3', 'succ%_rolling_3', 'ga_rolling_365', 'dist_rolling_3']\n",
      "---- Best Variables Model ----\n",
      "Accuracy score: 0.7666666666666667\n",
      "Precision score: 0.625\n",
      "------------------------------\n",
      "\n",
      "Finding best features for Southampton...\n",
      "Split Southampton into 0.8:0.2 ratio\n",
      "\n",
      "---- All Variables Model ----\n",
      "Accuracy : 0.5\n",
      "Precision: 0.6666666666666666\n",
      "Average  : 0.26666666666666666\n",
      "-----------------------------\n",
      "\n",
      "Starting best feature finding for 14 combinations...\n"
     ]
    },
    {
     "name": "stderr",
     "output_type": "stream",
     "text": [
      "Training: 100%|██████████| 16383/16383 [34:49<00:00,  7.84it/s]                                                        \n",
      "C:\\Users\\Lee Seung Soo\\AppData\\Local\\Temp\\ipykernel_23252\\2801179716.py:15: FutureWarning: The frame.append method is deprecated and will be removed from pandas in a future version. Use pandas.concat instead.\n",
      "  df_features = df_features.append(pd.Series(best_features, index=df_features.columns), ignore_index=True)\n"
     ]
    },
    {
     "name": "stdout",
     "output_type": "stream",
     "text": [
      "\n",
      "Model Training Complete!\n",
      "Best feature variables: ['xga_rolling_3', 'dist_rolling_3']\n",
      "---- Best Variables Model ----\n",
      "Accuracy score: 0.7666666666666667\n",
      "Precision score: 0.75\n",
      "------------------------------\n",
      "\n",
      "Finding best features for Tottenham Hotspur...\n",
      "Split Tottenham Hotspur into 0.8:0.2 ratio\n",
      "\n",
      "---- All Variables Model ----\n",
      "Accuracy : 0.5806451612903226\n",
      "Precision: 0.6666666666666666\n",
      "Average  : 0.26666666666666666\n",
      "-----------------------------\n",
      "\n",
      "Starting best feature finding for 14 combinations...\n"
     ]
    },
    {
     "name": "stderr",
     "output_type": "stream",
     "text": [
      "Training: 100%|██████████| 16383/16383 [28:43<00:00,  9.51it/s]                                                        \n",
      "C:\\Users\\Lee Seung Soo\\AppData\\Local\\Temp\\ipykernel_23252\\2801179716.py:15: FutureWarning: The frame.append method is deprecated and will be removed from pandas in a future version. Use pandas.concat instead.\n",
      "  df_features = df_features.append(pd.Series(best_features, index=df_features.columns), ignore_index=True)\n"
     ]
    },
    {
     "name": "stdout",
     "output_type": "stream",
     "text": [
      "\n",
      "Model Training Complete!\n",
      "Best feature variables: ['won%_rolling_3', 'xg_rolling_365', 'xg_rolling_3']\n",
      "---- Best Variables Model ----\n",
      "Accuracy score: 0.7096774193548387\n",
      "Precision score: 0.8\n",
      "------------------------------\n",
      "\n",
      "Finding best features for West Ham United...\n",
      "Split West Ham United into 0.8:0.2 ratio\n",
      "\n",
      "---- All Variables Model ----\n",
      "Accuracy : 0.45454545454545453\n",
      "Precision: 0.6666666666666666\n",
      "Average  : 0.26666666666666666\n",
      "-----------------------------\n",
      "\n",
      "Starting best feature finding for 14 combinations...\n"
     ]
    },
    {
     "name": "stderr",
     "output_type": "stream",
     "text": [
      "Training: 100%|██████████| 16383/16383 [27:27<00:00,  9.94it/s]                                                        \n",
      "C:\\Users\\Lee Seung Soo\\AppData\\Local\\Temp\\ipykernel_23252\\2801179716.py:15: FutureWarning: The frame.append method is deprecated and will be removed from pandas in a future version. Use pandas.concat instead.\n",
      "  df_features = df_features.append(pd.Series(best_features, index=df_features.columns), ignore_index=True)\n"
     ]
    },
    {
     "name": "stdout",
     "output_type": "stream",
     "text": [
      "\n",
      "Model Training Complete!\n",
      "Best feature variables: ['dist_rolling_3', 'tkl+int_rolling_3', 'won%_rolling_3', 'ast_rolling_3', 'succ_rolling_3', 'save%_rolling_3']\n",
      "---- Best Variables Model ----\n",
      "Accuracy score: 0.7575757575757576\n",
      "Precision score: 0.6666666666666666\n",
      "------------------------------\n",
      "\n",
      "Finding best features for Wolverhampton Wanderers...\n",
      "Split Wolverhampton Wanderers into 0.8:0.2 ratio\n",
      "\n",
      "---- All Variables Model ----\n",
      "Accuracy : 0.64\n",
      "Precision: 0.6666666666666666\n",
      "Average  : 0.26666666666666666\n",
      "-----------------------------\n",
      "\n",
      "Starting best feature finding for 14 combinations...\n"
     ]
    },
    {
     "name": "stderr",
     "output_type": "stream",
     "text": [
      "Training:   0%|          | 2/16383 [00:00<27:26,  9.95it/s]                                                            C:\\Users\\Lee Seung Soo\\AppData\\Roaming\\Python\\Python39\\site-packages\\sklearn\\metrics\\_classification.py:1327: UndefinedMetricWarning: Precision is ill-defined and being set to 0.0 due to no predicted samples. Use `zero_division` parameter to control this behavior.\n",
      "  _warn_prf(average, modifier, msg_start, len(result))\n",
      "Training: 100%|██████████| 16383/16383 [25:22<00:00, 10.76it/s]                                                        "
     ]
    },
    {
     "name": "stdout",
     "output_type": "stream",
     "text": [
      "\n",
      "Model Training Complete!\n",
      "Best feature variables: ['xga_rolling_3', 'poss_rolling_365', 'prgdist_rolling_3', 'dist_rolling_3', 'xg_rolling_365', 'save%_rolling_3']\n",
      "---- Best Variables Model ----\n",
      "Accuracy score: 0.88\n",
      "Precision score: 1.0\n",
      "------------------------------\n",
      "\n"
     ]
    },
    {
     "name": "stderr",
     "output_type": "stream",
     "text": [
      "\n",
      "C:\\Users\\Lee Seung Soo\\AppData\\Local\\Temp\\ipykernel_23252\\2801179716.py:15: FutureWarning: The frame.append method is deprecated and will be removed from pandas in a future version. Use pandas.concat instead.\n",
      "  df_features = df_features.append(pd.Series(best_features, index=df_features.columns), ignore_index=True)\n"
     ]
    }
   ],
   "source": [
    "for team in teams:\n",
    "    print(f\"Finding best features for {team}...\")\n",
    "    df = matches_engineered_grouped.get_group(team)\n",
    "    df = df.sort_values(by='date', ascending=True)\n",
    "    if len(df) > 100:\n",
    "        test_n = int(len(df) * 0.2)\n",
    "    else:\n",
    "        test_n = int(len(df) * 0.3)\n",
    "        \n",
    "    train = df.iloc[:-test_n]\n",
    "    test = df.iloc[-test_n:]\n",
    "    print(f\"Split {team} into {round((len(train)/(len(train)+len(test))),2)}:{round((len(test)/(len(train)+len(test))),2)} ratio\")\n",
    "    \n",
    "    best_features = get_best_features(team,train,test,all_predictors)\n",
    "    df_features = df_features.append(pd.Series(best_features, index=df_features.columns), ignore_index=True)\n",
    "    df_features.to_csv('best_features.csv')"
   ]
  },
  {
   "cell_type": "code",
   "execution_count": 158,
   "id": "7c402be1",
   "metadata": {},
   "outputs": [],
   "source": [
    "def get_best_features(team,train,test,predictors):\n",
    "    rf = RandomForestClassifier(n_estimators=50, min_samples_split=10, random_state=1)\n",
    "    rf.fit(train[predictors], train[\"btts\"])\n",
    "    preds = rf.predict(test[predictors])\n",
    "\n",
    "    acc = accuracy_score(test[\"btts\"], preds)\n",
    "    print(\"\")\n",
    "    print(\"---- All Variables Model ----\")\n",
    "    print(\"Accuracy :\", acc)\n",
    "    print(\"Precision:\", prec)\n",
    "    print(\"Average  :\", avg)\n",
    "    print(\"-----------------------------\")\n",
    "    print(\"\")\n",
    "\n",
    "    importances = rf.feature_importances_\n",
    "    forest_importances = pd.Series(importances, index=predictors)\n",
    "    forest_importances = forest_importances.sort_values(ascending=False)\n",
    "    important_vars = forest_importances.iloc[:14]\n",
    "    important_vars = important_vars.index.tolist()\n",
    "    feature_vars = important_vars\n",
    "    target_var = 'btts'\n",
    "\n",
    "    # create a list of all possible feature variable combinations\n",
    "    feature_combinations = []\n",
    "    for i in range(1, len(feature_vars) + 1):\n",
    "        for combo in itertools.combinations(feature_vars, i):\n",
    "            feature_combinations.append(list(combo))\n",
    "\n",
    "    # train and test models for each feature variable combination\n",
    "    best_accuracy = 0\n",
    "    best_feature_combo = None\n",
    "    print(f\"Starting best feature finding for {len(important_vars)} combinations...\")\n",
    "    for feature_combo in tqdm(feature_combinations, desc='Training', bar_format='{l_bar}{bar:10}{r_bar}{bar:-10b}', position=0):\n",
    "        rf = RandomForestClassifier(n_estimators=50, min_samples_split=10, random_state=1)\n",
    "        rf.fit(train[feature_combo], train[target_var])\n",
    "        preds = rf.predict(test[feature_combo])\n",
    "        accuracy = accuracy_score(test['btts'], preds)\n",
    "        if accuracy > best_accuracy:\n",
    "            best_accuracy = accuracy\n",
    "            best_precision = precision_score(test['btts'], preds)\n",
    "            best_feature_combo = feature_combo\n",
    "\n",
    "    # print the best feature variable combination and its accuracy\n",
    "    print(\"\")\n",
    "    print(\"Model Training Complete!\")\n",
    "    print('Best feature variables:', best_feature_combo)\n",
    "    print('---- Best Variables Model ----')\n",
    "    print('Accuracy score:', best_accuracy)\n",
    "    print('Precision score:', best_precision)\n",
    "    print('------------------------------')\n",
    "    print('')\n",
    "    \n",
    "    # return the best features and data in a list\n",
    "    best_features = [team,best_feature_combo,round(best_accuracy,2),round(best_precision,2)]\n",
    "    return best_features"
   ]
  },
  {
   "cell_type": "code",
   "execution_count": null,
   "id": "52f03061",
   "metadata": {},
   "outputs": [],
   "source": []
  }
 ],
 "metadata": {
  "kernelspec": {
   "display_name": "Python 3 (ipykernel)",
   "language": "python",
   "name": "python3"
  },
  "language_info": {
   "codemirror_mode": {
    "name": "ipython",
    "version": 3
   },
   "file_extension": ".py",
   "mimetype": "text/x-python",
   "name": "python",
   "nbconvert_exporter": "python",
   "pygments_lexer": "ipython3",
   "version": "3.9.12"
  }
 },
 "nbformat": 4,
 "nbformat_minor": 5
}
